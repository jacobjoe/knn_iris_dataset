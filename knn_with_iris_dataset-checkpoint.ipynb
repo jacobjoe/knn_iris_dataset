{
 "cells": [
  {
   "cell_type": "markdown",
   "metadata": {},
   "source": [
    "# Load dataset"
   ]
  },
  {
   "cell_type": "code",
   "execution_count": 2,
   "metadata": {},
   "outputs": [
    {
     "name": "stdout",
     "output_type": "stream",
     "text": [
      "5.1 ,3.5 ,1.4 ,0.2 ,Iris-setosa\n",
      "4.9 ,3 ,1.4 ,0.2 ,Iris-setosa\n",
      "4.7 ,3.2 ,1.3 ,0.2 ,Iris-setosa\n",
      "4.6 ,3.1 ,1.5 ,0.2 ,Iris-setosa\n",
      "5 ,3.6 ,1.4 ,0.2 ,Iris-setosa\n",
      "5.4 ,3.9 ,1.7 ,0.4 ,Iris-setosa\n",
      "4.6 ,3.4 ,1.4 ,0.3 ,Iris-setosa\n",
      "5 ,3.4 ,1.5 ,0.2 ,Iris-setosa\n",
      "4.4 ,2.9 ,1.4 ,0.2 ,Iris-setosa\n",
      "4.9 ,3.1 ,1.5 ,0.1 ,Iris-setosa\n",
      "5.4 ,3.7 ,1.5 ,0.2 ,Iris-setosa\n",
      "4.8 ,3.4 ,1.6 ,0.2 ,Iris-setosa\n",
      "4.8 ,3 ,1.4 ,0.1 ,Iris-setosa\n",
      "4.3 ,3 ,1.1 ,0.1 ,Iris-setosa\n",
      "5.8 ,4 ,1.2 ,0.2 ,Iris-setosa\n",
      "5.7 ,4.4 ,1.5 ,0.4 ,Iris-setosa\n",
      "5.4 ,3.9 ,1.3 ,0.4 ,Iris-setosa\n",
      "5.1 ,3.5 ,1.4 ,0.3 ,Iris-setosa\n",
      "5.7 ,3.8 ,1.7 ,0.3 ,Iris-setosa\n",
      "5.1 ,3.8 ,1.5 ,0.3 ,Iris-setosa\n",
      "5.4 ,3.4 ,1.7 ,0.2 ,Iris-setosa\n",
      "5.1 ,3.7 ,1.5 ,0.4 ,Iris-setosa\n",
      "4.6 ,3.6 ,1 ,0.2 ,Iris-setosa\n",
      "5.1 ,3.3 ,1.7 ,0.5 ,Iris-setosa\n",
      "4.8 ,3.4 ,1.9 ,0.2 ,Iris-setosa\n",
      "5 ,3 ,1.6 ,0.2 ,Iris-setosa\n",
      "5 ,3.4 ,1.6 ,0.4 ,Iris-setosa\n",
      "5.2 ,3.5 ,1.5 ,0.2 ,Iris-setosa\n",
      "5.2 ,3.4 ,1.4 ,0.2 ,Iris-setosa\n",
      "4.7 ,3.2 ,1.6 ,0.2 ,Iris-setosa\n",
      "4.8 ,3.1 ,1.6 ,0.2 ,Iris-setosa\n",
      "5.4 ,3.4 ,1.5 ,0.4 ,Iris-setosa\n",
      "5.2 ,4.1 ,1.5 ,0.1 ,Iris-setosa\n",
      "5.5 ,4.2 ,1.4 ,0.2 ,Iris-setosa\n",
      "4.9 ,3.1 ,1.5 ,0.1 ,Iris-setosa\n",
      "5 ,3.2 ,1.2 ,0.2 ,Iris-setosa\n",
      "5.5 ,3.5 ,1.3 ,0.2 ,Iris-setosa\n",
      "4.9 ,3.1 ,1.5 ,0.1 ,Iris-setosa\n",
      "4.4 ,3 ,1.3 ,0.2 ,Iris-setosa\n",
      "5.1 ,3.4 ,1.5 ,0.2 ,Iris-setosa\n",
      "5 ,3.5 ,1.3 ,0.3 ,Iris-setosa\n",
      "4.5 ,2.3 ,1.3 ,0.3 ,Iris-setosa\n",
      "4.4 ,3.2 ,1.3 ,0.2 ,Iris-setosa\n",
      "5 ,3.5 ,1.6 ,0.6 ,Iris-setosa\n",
      "5.1 ,3.8 ,1.9 ,0.4 ,Iris-setosa\n",
      "4.8 ,3 ,1.4 ,0.3 ,Iris-setosa\n",
      "5.1 ,3.8 ,1.6 ,0.2 ,Iris-setosa\n",
      "4.6 ,3.2 ,1.4 ,0.2 ,Iris-setosa\n",
      "5.3 ,3.7 ,1.5 ,0.2 ,Iris-setosa\n",
      "5 ,3.3 ,1.4 ,0.2 ,Iris-setosa\n",
      "7 ,3.2 ,4.7 ,1.4 ,Iris-versicolor\n",
      "6.4 ,3.2 ,4.5 ,1.5 ,Iris-versicolor\n",
      "6.9 ,3.1 ,4.9 ,1.5 ,Iris-versicolor\n",
      "5.5 ,2.3 ,4 ,1.3 ,Iris-versicolor\n",
      "6.5 ,2.8 ,4.6 ,1.5 ,Iris-versicolor\n",
      "5.7 ,2.8 ,4.5 ,1.3 ,Iris-versicolor\n",
      "6.3 ,3.3 ,4.7 ,1.6 ,Iris-versicolor\n",
      "4.9 ,2.4 ,3.3 ,1 ,Iris-versicolor\n",
      "6.6 ,2.9 ,4.6 ,1.3 ,Iris-versicolor\n",
      "5.2 ,2.7 ,3.9 ,1.4 ,Iris-versicolor\n",
      "5 ,2 ,3.5 ,1 ,Iris-versicolor\n",
      "5.9 ,3 ,4.2 ,1.5 ,Iris-versicolor\n",
      "6 ,2.2 ,4 ,1 ,Iris-versicolor\n",
      "6.1 ,2.9 ,4.7 ,1.4 ,Iris-versicolor\n",
      "5.6 ,2.9 ,3.6 ,1.3 ,Iris-versicolor\n",
      "6.7 ,3.1 ,4.4 ,1.4 ,Iris-versicolor\n",
      "5.6 ,3 ,4.5 ,1.5 ,Iris-versicolor\n",
      "5.8 ,2.7 ,4.1 ,1 ,Iris-versicolor\n",
      "6.2 ,2.2 ,4.5 ,1.5 ,Iris-versicolor\n",
      "5.6 ,2.5 ,3.9 ,1.1 ,Iris-versicolor\n",
      "5.9 ,3.2 ,4.8 ,1.8 ,Iris-versicolor\n",
      "6.1 ,2.8 ,4 ,1.3 ,Iris-versicolor\n",
      "6.3 ,2.5 ,4.9 ,1.5 ,Iris-versicolor\n",
      "6.1 ,2.8 ,4.7 ,1.2 ,Iris-versicolor\n",
      "6.4 ,2.9 ,4.3 ,1.3 ,Iris-versicolor\n",
      "6.6 ,3 ,4.4 ,1.4 ,Iris-versicolor\n",
      "6.8 ,2.8 ,4.8 ,1.4 ,Iris-versicolor\n",
      "6.7 ,3 ,5 ,1.7 ,Iris-versicolor\n",
      "6 ,2.9 ,4.5 ,1.5 ,Iris-versicolor\n",
      "5.7 ,2.6 ,3.5 ,1 ,Iris-versicolor\n",
      "5.5 ,2.4 ,3.8 ,1.1 ,Iris-versicolor\n",
      "5.5 ,2.4 ,3.7 ,1 ,Iris-versicolor\n",
      "5.8 ,2.7 ,3.9 ,1.2 ,Iris-versicolor\n",
      "6 ,2.7 ,5.1 ,1.6 ,Iris-versicolor\n",
      "5.4 ,3 ,4.5 ,1.5 ,Iris-versicolor\n",
      "6 ,3.4 ,4.5 ,1.6 ,Iris-versicolor\n",
      "6.7 ,3.1 ,4.7 ,1.5 ,Iris-versicolor\n",
      "6.3 ,2.3 ,4.4 ,1.3 ,Iris-versicolor\n",
      "5.6 ,3 ,4.1 ,1.3 ,Iris-versicolor\n",
      "5.5 ,2.5 ,4 ,1.3 ,Iris-versicolor\n",
      "5.5 ,2.6 ,4.4 ,1.2 ,Iris-versicolor\n",
      "6.1 ,3 ,4.6 ,1.4 ,Iris-versicolor\n",
      "5.8 ,2.6 ,4 ,1.2 ,Iris-versicolor\n",
      "5 ,2.3 ,3.3 ,1 ,Iris-versicolor\n",
      "5.6 ,2.7 ,4.2 ,1.3 ,Iris-versicolor\n",
      "5.7 ,3 ,4.2 ,1.2 ,Iris-versicolor\n",
      "5.7 ,2.9 ,4.2 ,1.3 ,Iris-versicolor\n",
      "6.2 ,2.9 ,4.3 ,1.3 ,Iris-versicolor\n",
      "5.1 ,2.5 ,3 ,1.1 ,Iris-versicolor\n",
      "5.7 ,2.8 ,4.1 ,1.3 ,Iris-versicolor\n",
      "6.3 ,3.3 ,6 ,2.5 ,Iris-virginica\n",
      "5.8 ,2.7 ,5.1 ,1.9 ,Iris-virginica\n",
      "7.1 ,3 ,5.9 ,2.1 ,Iris-virginica\n",
      "6.3 ,2.9 ,5.6 ,1.8 ,Iris-virginica\n",
      "6.5 ,3 ,5.8 ,2.2 ,Iris-virginica\n",
      "7.6 ,3 ,6.6 ,2.1 ,Iris-virginica\n",
      "4.9 ,2.5 ,4.5 ,1.7 ,Iris-virginica\n",
      "7.3 ,2.9 ,6.3 ,1.8 ,Iris-virginica\n",
      "6.7 ,2.5 ,5.8 ,1.8 ,Iris-virginica\n",
      "7.2 ,3.6 ,6.1 ,2.5 ,Iris-virginica\n",
      "6.5 ,3.2 ,5.1 ,2 ,Iris-virginica\n",
      "6.4 ,2.7 ,5.3 ,1.9 ,Iris-virginica\n",
      "6.8 ,3 ,5.5 ,2.1 ,Iris-virginica\n",
      "5.7 ,2.5 ,5 ,2 ,Iris-virginica\n",
      "5.8 ,2.8 ,5.1 ,2.4 ,Iris-virginica\n",
      "6.4 ,3.2 ,5.3 ,2.3 ,Iris-virginica\n",
      "6.5 ,3 ,5.5 ,1.8 ,Iris-virginica\n",
      "7.7 ,3.8 ,6.7 ,2.2 ,Iris-virginica\n",
      "7.7 ,2.6 ,6.9 ,2.3 ,Iris-virginica\n",
      "6 ,2.2 ,5 ,1.5 ,Iris-virginica\n",
      "6.9 ,3.2 ,5.7 ,2.3 ,Iris-virginica\n",
      "5.6 ,2.8 ,4.9 ,2 ,Iris-virginica\n",
      "7.7 ,2.8 ,6.7 ,2 ,Iris-virginica\n",
      "6.3 ,2.7 ,4.9 ,1.8 ,Iris-virginica\n",
      "6.7 ,3.3 ,5.7 ,2.1 ,Iris-virginica\n",
      "7.2 ,3.2 ,6 ,1.8 ,Iris-virginica\n",
      "6.2 ,2.8 ,4.8 ,1.8 ,Iris-virginica\n",
      "6.1 ,3 ,4.9 ,1.8 ,Iris-virginica\n",
      "6.4 ,2.8 ,5.6 ,2.1 ,Iris-virginica\n",
      "7.2 ,3 ,5.8 ,1.6 ,Iris-virginica\n",
      "7.4 ,2.8 ,6.1 ,1.9 ,Iris-virginica\n",
      "7.9 ,3.8 ,6.4 ,2 ,Iris-virginica\n",
      "6.4 ,2.8 ,5.6 ,2.2 ,Iris-virginica\n",
      "6.3 ,2.8 ,5.1 ,1.5 ,Iris-virginica\n",
      "6.1 ,2.6 ,5.6 ,1.4 ,Iris-virginica\n",
      "7.7 ,3 ,6.1 ,2.3 ,Iris-virginica\n",
      "6.3 ,3.4 ,5.6 ,2.4 ,Iris-virginica\n",
      "6.4 ,3.1 ,5.5 ,1.8 ,Iris-virginica\n",
      "6 ,3 ,4.8 ,1.8 ,Iris-virginica\n",
      "6.9 ,3.1 ,5.4 ,2.1 ,Iris-virginica\n",
      "6.7 ,3.1 ,5.6 ,2.4 ,Iris-virginica\n",
      "6.9 ,3.1 ,5.1 ,2.3 ,Iris-virginica\n",
      "5.8 ,2.7 ,5.1 ,1.9 ,Iris-virginica\n",
      "6.8 ,3.2 ,5.9 ,2.3 ,Iris-virginica\n",
      "6.7 ,3.3 ,5.7 ,2.5 ,Iris-virginica\n",
      "6.7 ,3 ,5.2 ,2.3 ,Iris-virginica\n",
      "6.3 ,2.5 ,5 ,1.9 ,Iris-virginica\n",
      "6.5 ,3 ,5.2 ,2 ,Iris-virginica\n",
      "6.2 ,3.4 ,5.4 ,2.3 ,Iris-virginica\n",
      "5.9 ,3 ,5.1 ,1.8 ,Iris-virginica\n"
     ]
    }
   ],
   "source": [
    "import csv\n",
    "with open('Documents/iris_data.txt') as csvfile:\n",
    "    lines = csv.reader(csvfile)\n",
    "    for row in lines:\n",
    "        print(' ,'.join(row))"
   ]
  },
  {
   "cell_type": "code",
   "execution_count": 9,
   "metadata": {},
   "outputs": [],
   "source": [
    "# load dataset and randomly split them into train and test set \n",
    "import csv\n",
    "import random\n",
    "def load_dataset(filename, split, training_set = [], test_set = []):\n",
    "    with open(filename, 'r') as csvfile:\n",
    "        lines = csv.reader(csvfile)\n",
    "        dataset = list(lines)\n",
    "        for x in range(len(dataset) - 1):\n",
    "            for y in range(4):\n",
    "                dataset[x][y] = float(dataset[x][y])\n",
    "            if random.random() < split:\n",
    "                training_set.append(dataset[x])\n",
    "            else:\n",
    "                test_set.append(dataset[x])"
   ]
  },
  {
   "cell_type": "code",
   "execution_count": 5,
   "metadata": {},
   "outputs": [
    {
     "name": "stdout",
     "output_type": "stream",
     "text": [
      "Train :104\n",
      "Test :45\n"
     ]
    }
   ],
   "source": [
    "filename = 'Documents\\iris_data.txt'\n",
    "split = 0.67\n",
    "training_set = []\n",
    "test_set = []\n",
    "load_dataset(filename, split, training_set, test_set)\n",
    "print('Train :' +repr(len(training_set)))\n",
    "print('Test :' +repr(len(test_set)))"
   ]
  },
  {
   "cell_type": "markdown",
   "metadata": {},
   "source": [
    "# similarity"
   ]
  },
  {
   "cell_type": "code",
   "execution_count": 6,
   "metadata": {},
   "outputs": [],
   "source": [
    "import math\n",
    "def euclidean_distance(instance1, instance2, length):\n",
    "    distance = 0\n",
    "    for x in range(length):\n",
    "        distance += math.pow((instance1[x] - instance2[x]), 2)\n",
    "    return math.sqrt(distance)"
   ]
  },
  {
   "cell_type": "code",
   "execution_count": 8,
   "metadata": {},
   "outputs": [
    {
     "name": "stdout",
     "output_type": "stream",
     "text": [
      "Distance :3.4641016151377544\n"
     ]
    }
   ],
   "source": [
    "# test the above function for our convinience\n",
    "data1 = [2, 2, 2, 'a']\n",
    "data2 = [4, 4, 4, 'b']\n",
    "length = 3\n",
    "distance = euclidean_distance(data1, data2, length)\n",
    "print('Distance :' +repr(distance))"
   ]
  },
  {
   "cell_type": "markdown",
   "metadata": {},
   "source": [
    "# K Nearest Neighbors"
   ]
  },
  {
   "cell_type": "code",
   "execution_count": 14,
   "metadata": {},
   "outputs": [],
   "source": [
    "import operator\n",
    "def get_neighbors(training_set, test_instance, k):\n",
    "    distances = []\n",
    "    length = len(test_instance) - 1\n",
    "    for x in range(len(training_set)):\n",
    "        dist = euclidean_distance(test_instance, training_set[x], length )\n",
    "        distances.append((training_set[x], dist))\n",
    "    distances.sort(key = operator.itemgetter(1))\n",
    "    neighbors = []\n",
    "    for x in range(k):\n",
    "        neighbors.append(distances[x][0])\n",
    "    return neighbors"
   ]
  },
  {
   "cell_type": "code",
   "execution_count": 15,
   "metadata": {},
   "outputs": [
    {
     "name": "stdout",
     "output_type": "stream",
     "text": [
      "Neighbor :[[4, 4, 4, 'b']]\n"
     ]
    }
   ],
   "source": [
    "# test the above function for our convinience\n",
    "training_set = [[2, 2, 2, 'a'], [4, 4, 4, 'b']]\n",
    "test_instance = [5, 5, 5]\n",
    "k = 1\n",
    "neighbor = get_neighbors(training_set, test_instance, k)\n",
    "print('Neighbor :' +repr(neighbor))"
   ]
  },
  {
   "cell_type": "markdown",
   "metadata": {},
   "source": [
    "# Response"
   ]
  },
  {
   "cell_type": "code",
   "execution_count": 18,
   "metadata": {},
   "outputs": [],
   "source": [
    "import operator\n",
    "def get_response(neighbors):\n",
    "    class_votes = {}\n",
    "    for x in range(len(neighbors)):\n",
    "        response = neighbors[x][-1]\n",
    "        if response in class_votes:\n",
    "            class_votes[response] += 1\n",
    "        else:\n",
    "            class_votes[response] = 1\n",
    "    sorted_votes = sorted(class_votes.items(), key = operator.itemgetter(1), reverse = True)\n",
    "    return sorted_votes[0][0]"
   ]
  },
  {
   "cell_type": "code",
   "execution_count": 19,
   "metadata": {},
   "outputs": [
    {
     "name": "stdout",
     "output_type": "stream",
     "text": [
      "Response :'a'\n"
     ]
    }
   ],
   "source": [
    "# test the above function for our convinience\n",
    "neighbors = [[1, 1, 1, 'a'], [2, 2, 2, 'a'], [3, 3, 3, 'b']]\n",
    "response = get_response(neighbors)\n",
    "print('Response :' +repr(response))"
   ]
  },
  {
   "cell_type": "markdown",
   "metadata": {},
   "source": [
    "# Check Accuracy"
   ]
  },
  {
   "cell_type": "code",
   "execution_count": 20,
   "metadata": {},
   "outputs": [],
   "source": [
    "def get_accuracy(test_set, prediction):\n",
    "    correct = 0\n",
    "    for x in range(len(test_set)):\n",
    "        if test_set[x][-1] == prediction[x]:\n",
    "            correct += 1\n",
    "    return (correct / float(len(test_set)))"
   ]
  },
  {
   "cell_type": "code",
   "execution_count": 21,
   "metadata": {},
   "outputs": [
    {
     "name": "stdout",
     "output_type": "stream",
     "text": [
      "Accuracy :66.66666666666666%\n"
     ]
    }
   ],
   "source": [
    "# test the above function for our convinience\n",
    "test_set = [[1, 1, 1, 'c'], [2, 2, 2, 'd'], [5, 5, 5, 'c']]\n",
    "prediction = ['c', 'c', 'c']\n",
    "accuracy = get_accuracy(test_set, prediction)\n",
    "print('Accuracy :' +repr(accuracy * 100)+'%')"
   ]
  },
  {
   "cell_type": "markdown",
   "metadata": {},
   "source": [
    "# Main"
   ]
  },
  {
   "cell_type": "code",
   "execution_count": 22,
   "metadata": {},
   "outputs": [
    {
     "name": "stdout",
     "output_type": "stream",
     "text": [
      "Train :93\n",
      "Test :56\n",
      "> Predicted = 'Iris-setosa'> Actual = 'Iris-setosa'\n",
      "> Predicted = 'Iris-setosa'> Actual = 'Iris-setosa'\n",
      "> Predicted = 'Iris-setosa'> Actual = 'Iris-setosa'\n",
      "> Predicted = 'Iris-setosa'> Actual = 'Iris-setosa'\n",
      "> Predicted = 'Iris-setosa'> Actual = 'Iris-setosa'\n",
      "> Predicted = 'Iris-setosa'> Actual = 'Iris-setosa'\n",
      "> Predicted = 'Iris-setosa'> Actual = 'Iris-setosa'\n",
      "> Predicted = 'Iris-setosa'> Actual = 'Iris-setosa'\n",
      "> Predicted = 'Iris-setosa'> Actual = 'Iris-setosa'\n",
      "> Predicted = 'Iris-setosa'> Actual = 'Iris-setosa'\n",
      "> Predicted = 'Iris-setosa'> Actual = 'Iris-setosa'\n",
      "> Predicted = 'Iris-setosa'> Actual = 'Iris-setosa'\n",
      "> Predicted = 'Iris-setosa'> Actual = 'Iris-setosa'\n",
      "> Predicted = 'Iris-setosa'> Actual = 'Iris-setosa'\n",
      "> Predicted = 'Iris-setosa'> Actual = 'Iris-setosa'\n",
      "> Predicted = 'Iris-setosa'> Actual = 'Iris-setosa'\n",
      "> Predicted = 'Iris-setosa'> Actual = 'Iris-setosa'\n",
      "> Predicted = 'Iris-setosa'> Actual = 'Iris-setosa'\n",
      "> Predicted = 'Iris-setosa'> Actual = 'Iris-setosa'\n",
      "> Predicted = 'Iris-setosa'> Actual = 'Iris-setosa'\n",
      "> Predicted = 'Iris-versicolor'> Actual = 'Iris-setosa'\n",
      "> Predicted = 'Iris-versicolor'> Actual = 'Iris-setosa'\n",
      "> Predicted = 'Iris-versicolor'> Actual = 'Iris-setosa'\n",
      "> Predicted = 'Iris-versicolor'> Actual = 'Iris-setosa'\n",
      "> Predicted = 'Iris-virginica'> Actual = 'Iris-setosa'\n",
      "> Predicted = 'Iris-versicolor'> Actual = 'Iris-setosa'\n",
      "> Predicted = 'Iris-versicolor'> Actual = 'Iris-setosa'\n",
      "> Predicted = 'Iris-versicolor'> Actual = 'Iris-setosa'\n",
      "> Predicted = 'Iris-versicolor'> Actual = 'Iris-setosa'\n",
      "> Predicted = 'Iris-versicolor'> Actual = 'Iris-setosa'\n",
      "> Predicted = 'Iris-versicolor'> Actual = 'Iris-versicolor'\n",
      "> Predicted = 'Iris-versicolor'> Actual = 'Iris-versicolor'\n",
      "> Predicted = 'Iris-virginica'> Actual = 'Iris-versicolor'\n",
      "> Predicted = 'Iris-virginica'> Actual = 'Iris-versicolor'\n",
      "> Predicted = 'Iris-virginica'> Actual = 'Iris-versicolor'\n",
      "> Predicted = 'Iris-versicolor'> Actual = 'Iris-versicolor'\n",
      "> Predicted = 'Iris-virginica'> Actual = 'Iris-versicolor'\n",
      "> Predicted = 'Iris-virginica'> Actual = 'Iris-versicolor'\n",
      "> Predicted = 'Iris-virginica'> Actual = 'Iris-versicolor'\n",
      "> Predicted = 'Iris-virginica'> Actual = 'Iris-versicolor'\n",
      "> Predicted = 'Iris-virginica'> Actual = 'Iris-versicolor'\n",
      "> Predicted = 'Iris-virginica'> Actual = 'Iris-versicolor'\n",
      "> Predicted = 'Iris-virginica'> Actual = 'Iris-versicolor'\n",
      "> Predicted = 'Iris-versicolor'> Actual = 'Iris-versicolor'\n",
      "> Predicted = 'Iris-virginica'> Actual = 'Iris-versicolor'\n",
      "> Predicted = 'Iris-virginica'> Actual = 'Iris-versicolor'\n",
      "> Predicted = 'Iris-virginica'> Actual = 'Iris-versicolor'\n",
      "> Predicted = 'Iris-virginica'> Actual = 'Iris-versicolor'\n",
      "> Predicted = 'Iris-virginica'> Actual = 'Iris-versicolor'\n",
      "> Predicted = 'Iris-virginica'> Actual = 'Iris-versicolor'\n",
      "> Predicted = 'Iris-virginica'> Actual = 'Iris-versicolor'\n",
      "> Predicted = 'Iris-virginica'> Actual = 'Iris-versicolor'\n",
      "> Predicted = 'Iris-versicolor'> Actual = 'Iris-versicolor'\n",
      "> Predicted = 'Iris-virginica'> Actual = 'Iris-versicolor'\n",
      "> Predicted = 'Iris-virginica'> Actual = 'Iris-versicolor'\n",
      "> Predicted = 'Iris-virginica'> Actual = 'Iris-versicolor'\n",
      "Accuracy :92.85714285714286%\n"
     ]
    }
   ],
   "source": [
    "# Tie all together\n",
    "def main():\n",
    "    filename = 'Documents/iris_data.txt'\n",
    "    split = 0.67\n",
    "    training_set = []\n",
    "    test_set = []\n",
    "    load_dataset(filename, split, training_set, test_set)\n",
    "    print('Train :' +repr(len(training_set)))\n",
    "    print('Test :' +repr(len(test_set)))\n",
    "    k = 3\n",
    "    prediction = []\n",
    "    for x in range(len(test_set)):\n",
    "        neighbor = get_neighbors(training_set, test_set[x], k)\n",
    "        response = get_response(neighbor)\n",
    "        prediction.append(response)\n",
    "        print('> Predicted = '+repr(response)+ '> Actual = '+repr(training_set[x][-1]))\n",
    "    accuracy = get_accuracy(test_set, prediction)\n",
    "    print('Accuracy :'+repr(accuracy* 100)+'%')\n",
    "main()"
   ]
  }
 ],
 "metadata": {
  "kernelspec": {
   "display_name": "Python 3",
   "language": "python",
   "name": "python3"
  },
  "language_info": {
   "codemirror_mode": {
    "name": "ipython",
    "version": 3
   },
   "file_extension": ".py",
   "mimetype": "text/x-python",
   "name": "python",
   "nbconvert_exporter": "python",
   "pygments_lexer": "ipython3",
   "version": "3.8.5"
  }
 },
 "nbformat": 4,
 "nbformat_minor": 4
}
